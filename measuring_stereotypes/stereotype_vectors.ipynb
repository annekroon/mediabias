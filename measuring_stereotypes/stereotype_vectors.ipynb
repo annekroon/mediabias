{
 "cells": [
  {
   "cell_type": "code",
   "execution_count": 34,
   "metadata": {
    "collapsed": true
   },
   "outputs": [],
   "source": [
    "import json\n",
    "import gensim\n",
    "import itertools\n",
    "import pandas as pd\n",
    "import csv"
   ]
  },
  {
   "cell_type": "code",
   "execution_count": 99,
   "metadata": {
    "collapsed": true
   },
   "outputs": [],
   "source": [
    "mtel = gensim.models.Word2Vec.load('/Users/admin/Google Drive/2017_MigrantWorkers/data/trained_models/trained_2000_2016/telegraaf')"
   ]
  },
  {
   "cell_type": "code",
   "execution_count": 103,
   "metadata": {},
   "outputs": [
    {
     "name": "stdout",
     "output_type": "stream",
     "text": [
      "done! here are the attributes: ['marokkaan', 'marokkanen', 'turk', 'turken', 'syrier', 'syriers', 'moslims', 'moslim', 'nederlander', 'nederlanders', 'westers'] and the targets: ['crimineel', 'misdadiger', 'veelpleger', 'politie', 'justitie', 'moordenaar', 'drugs', '', '', '', '']\n"
     ]
    }
   ],
   "source": [
    "att = []\n",
    "tar = []\n",
    "\n",
    "with open (\"/Users/admin/Google Drive/2017_MigrantWorkers/attributes/attributes_test.csv\", encoding = 'utf-8', mode = 'r', newline= '') as csvfile:\n",
    "    reader = csv.reader(csvfile, delimiter = \";\")\n",
    "    for row in reader:\n",
    "        att.append(row[0])\n",
    "        tar.append(row[1])\n",
    "print(\"done! here are the attributes:\", att , \"and the targets:\", tar)"
   ]
  },
  {
   "cell_type": "code",
   "execution_count": 104,
   "metadata": {},
   "outputs": [
    {
     "name": "stdout",
     "output_type": "stream",
     "text": [
      "['crimineel', 'misdadiger', 'veelpleger', 'politie', 'justitie', 'moordenaar', 'drugs']\n"
     ]
    }
   ],
   "source": [
    "#remove empty strings in tar\n",
    "tar = ' '.join(tar).split()\n",
    "print(tar)"
   ]
  },
  {
   "cell_type": "code",
   "execution_count": 105,
   "metadata": {},
   "outputs": [
    {
     "name": "stdout",
     "output_type": "stream",
     "text": [
      "[('marokkaan', 'crimineel'), ('marokkaan', 'misdadiger'), ('marokkaan', 'veelpleger'), ('marokkaan', 'politie'), ('marokkaan', 'justitie'), ('marokkaan', 'moordenaar'), ('marokkaan', 'drugs'), ('marokkanen', 'crimineel'), ('marokkanen', 'misdadiger'), ('marokkanen', 'veelpleger'), ('marokkanen', 'politie'), ('marokkanen', 'justitie'), ('marokkanen', 'moordenaar'), ('marokkanen', 'drugs'), ('turk', 'crimineel'), ('turk', 'misdadiger'), ('turk', 'veelpleger'), ('turk', 'politie'), ('turk', 'justitie'), ('turk', 'moordenaar'), ('turk', 'drugs'), ('turken', 'crimineel'), ('turken', 'misdadiger'), ('turken', 'veelpleger'), ('turken', 'politie'), ('turken', 'justitie'), ('turken', 'moordenaar'), ('turken', 'drugs'), ('syrier', 'crimineel'), ('syrier', 'misdadiger'), ('syrier', 'veelpleger'), ('syrier', 'politie'), ('syrier', 'justitie'), ('syrier', 'moordenaar'), ('syrier', 'drugs'), ('syriers', 'crimineel'), ('syriers', 'misdadiger'), ('syriers', 'veelpleger'), ('syriers', 'politie'), ('syriers', 'justitie'), ('syriers', 'moordenaar'), ('syriers', 'drugs'), ('moslims', 'crimineel'), ('moslims', 'misdadiger'), ('moslims', 'veelpleger'), ('moslims', 'politie'), ('moslims', 'justitie'), ('moslims', 'moordenaar'), ('moslims', 'drugs'), ('moslim', 'crimineel'), ('moslim', 'misdadiger'), ('moslim', 'veelpleger'), ('moslim', 'politie'), ('moslim', 'justitie'), ('moslim', 'moordenaar'), ('moslim', 'drugs'), ('nederlander', 'crimineel'), ('nederlander', 'misdadiger'), ('nederlander', 'veelpleger'), ('nederlander', 'politie'), ('nederlander', 'justitie'), ('nederlander', 'moordenaar'), ('nederlander', 'drugs'), ('nederlanders', 'crimineel'), ('nederlanders', 'misdadiger'), ('nederlanders', 'veelpleger'), ('nederlanders', 'politie'), ('nederlanders', 'justitie'), ('nederlanders', 'moordenaar'), ('nederlanders', 'drugs'), ('westers', 'crimineel'), ('westers', 'misdadiger'), ('westers', 'veelpleger'), ('westers', 'politie'), ('westers', 'justitie'), ('westers', 'moordenaar'), ('westers', 'drugs')]\n"
     ]
    }
   ],
   "source": [
    "pairs = list(itertools.product(att,tar))\n",
    "print(pairs)"
   ]
  },
  {
   "cell_type": "code",
   "execution_count": 109,
   "metadata": {
    "collapsed": true
   },
   "outputs": [],
   "source": [
    "scores = {}\n",
    "for pair in pairs:\n",
    "    resultaat_tel = mtel.wv.similarity(pair[0],pair[1])\n",
    "#    resultaat_nrc = mnrc.wv.similarity(pair[0],pair[1])\n",
    "    scores[pair] = {'telegraaf': resultaat_tel}"
   ]
  },
  {
   "cell_type": "code",
   "execution_count": 110,
   "metadata": {},
   "outputs": [
    {
     "name": "stdout",
     "output_type": "stream",
     "text": [
      "{('nederlander', 'misdadiger'): {'telegraaf': 0.52240315618740718}, ('marokkaan', 'drugs'): {'telegraaf': 0.21429749304797868}, ('moslim', 'crimineel'): {'telegraaf': 0.562633953756001}, ('westers', 'veelpleger'): {'telegraaf': 0.19954729404163762}, ('moslims', 'politie'): {'telegraaf': 0.25828984073308692}, ('turken', 'misdadiger'): {'telegraaf': 0.23213930095710128}, ('nederlanders', 'crimineel'): {'telegraaf': 0.17735393480632877}, ('marokkanen', 'misdadiger'): {'telegraaf': 0.27256748189605584}, ('syrier', 'misdadiger'): {'telegraaf': 0.56092603696181498}, ('syriers', 'veelpleger'): {'telegraaf': 0.45180975664664647}, ('nederlanders', 'veelpleger'): {'telegraaf': 0.17087709227715397}, ('nederlander', 'moordenaar'): {'telegraaf': 0.39778121531094734}, ('turken', 'justitie'): {'telegraaf': 0.26434576709279656}, ('moslim', 'moordenaar'): {'telegraaf': 0.59891338817744}, ('westers', 'crimineel'): {'telegraaf': 0.29726896877036524}, ('nederlanders', 'moordenaar'): {'telegraaf': 0.034224630391355877}, ('marokkanen', 'moordenaar'): {'telegraaf': 0.20610333989296584}, ('marokkanen', 'politie'): {'telegraaf': 0.32642481654467792}, ('marokkanen', 'veelpleger'): {'telegraaf': 0.29529378214172924}, ('marokkaan', 'justitie'): {'telegraaf': 0.35348006805565307}, ('turk', 'drugs'): {'telegraaf': 0.24311672752175592}, ('moslim', 'veelpleger'): {'telegraaf': 0.49841471076060406}, ('syrier', 'crimineel'): {'telegraaf': 0.37618804392762284}, ('moslim', 'drugs'): {'telegraaf': 0.31411665057226307}, ('marokkaan', 'crimineel'): {'telegraaf': 0.6788910881758311}, ('moslim', 'politie'): {'telegraaf': 0.20245826550058313}, ('syrier', 'moordenaar'): {'telegraaf': 0.45377472053982781}, ('nederlander', 'crimineel'): {'telegraaf': 0.40752399317818777}, ('syrier', 'veelpleger'): {'telegraaf': 0.63584353462063348}, ('marokkanen', 'justitie'): {'telegraaf': 0.33113714580267362}, ('turken', 'moordenaar'): {'telegraaf': 0.11111108637512615}, ('syrier', 'politie'): {'telegraaf': 0.15484826777784494}, ('turk', 'moordenaar'): {'telegraaf': 0.67610739570571421}, ('turk', 'crimineel'): {'telegraaf': 0.64629096116445273}, ('syriers', 'moordenaar'): {'telegraaf': 0.16625117976177159}, ('syrier', 'drugs'): {'telegraaf': 0.10761304985577223}, ('turk', 'misdadiger'): {'telegraaf': 0.76362876872539076}, ('marokkanen', 'drugs'): {'telegraaf': 0.36712665239379405}, ('nederlander', 'drugs'): {'telegraaf': 0.012994787908194224}, ('nederlanders', 'justitie'): {'telegraaf': 0.12865930500140349}, ('turken', 'drugs'): {'telegraaf': 0.29198385523738235}, ('moslims', 'misdadiger'): {'telegraaf': 0.35514807823681915}, ('moslims', 'justitie'): {'telegraaf': 0.34346150430757372}, ('marokkaan', 'misdadiger'): {'telegraaf': 0.73053305486321618}, ('turken', 'crimineel'): {'telegraaf': 0.26902503205602968}, ('syriers', 'crimineel'): {'telegraaf': 0.1936781416181193}, ('westers', 'justitie'): {'telegraaf': -0.036736929402521587}, ('moslims', 'drugs'): {'telegraaf': 0.38811735721436458}, ('moslim', 'misdadiger'): {'telegraaf': 0.6600766017565971}, ('westers', 'moordenaar'): {'telegraaf': 0.13540119296186781}, ('marokkaan', 'moordenaar'): {'telegraaf': 0.65053551294709577}, ('marokkaan', 'politie'): {'telegraaf': 0.45175103637950687}, ('moslim', 'justitie'): {'telegraaf': 0.32415047250179158}, ('nederlander', 'politie'): {'telegraaf': 0.20344231811471411}, ('syriers', 'drugs'): {'telegraaf': 0.10770705189142145}, ('westers', 'misdadiger'): {'telegraaf': 0.29834127519082643}, ('turk', 'veelpleger'): {'telegraaf': 0.7491553432846958}, ('syrier', 'justitie'): {'telegraaf': 0.20814004728454752}, ('nederlander', 'veelpleger'): {'telegraaf': 0.44857915179490271}, ('westers', 'politie'): {'telegraaf': -0.063823390057125576}, ('westers', 'drugs'): {'telegraaf': 0.11286692505410505}, ('turk', 'politie'): {'telegraaf': 0.32492833801413806}, ('nederlander', 'justitie'): {'telegraaf': 0.15683535953198879}, ('moslims', 'veelpleger'): {'telegraaf': 0.2032074991975113}, ('syriers', 'misdadiger'): {'telegraaf': 0.35820081367039119}, ('marokkanen', 'crimineel'): {'telegraaf': 0.33159550365905188}, ('nederlanders', 'misdadiger'): {'telegraaf': 0.20644761626829555}, ('marokkaan', 'veelpleger'): {'telegraaf': 0.75007551271735173}, ('moslims', 'crimineel'): {'telegraaf': 0.34360845746375168}, ('nederlanders', 'politie'): {'telegraaf': 0.17288494704431956}, ('syriers', 'justitie'): {'telegraaf': 0.11378634506565799}, ('nederlanders', 'drugs'): {'telegraaf': 0.22842431791561599}, ('turken', 'politie'): {'telegraaf': 0.27272571894871628}, ('moslims', 'moordenaar'): {'telegraaf': 0.26712952419427505}, ('syriers', 'politie'): {'telegraaf': 0.061404349465584485}, ('turken', 'veelpleger'): {'telegraaf': 0.17051626706271455}, ('turk', 'justitie'): {'telegraaf': 0.30945604323987086}}\n"
     ]
    }
   ],
   "source": [
    "print(scores)"
   ]
  },
  {
   "cell_type": "code",
   "execution_count": 115,
   "metadata": {},
   "outputs": [],
   "source": [
    "#saving output.\n",
    "with open('/Users/admin/Google Drive/2017_MigrantWorkers/data/output/scores_tel.json', mode='w', encoding=\"utf-8\") as fp:\n",
    "    json.dump(str(scores), fp)\n",
    "\n",
    "#write to csv file in order to do some calculations with it...\n",
    "\n",
    "df = pd.DataFrame(scores).T\n",
    "df.to_csv('/Users/admin/Google Drive/2017_MigrantWorkers/data/output/scores_tel.csv')"
   ]
  }
 ],
 "metadata": {
  "kernelspec": {
   "display_name": "Python 3",
   "language": "python",
   "name": "python3"
  },
  "language_info": {
   "codemirror_mode": {
    "name": "ipython",
    "version": 3
   },
   "file_extension": ".py",
   "mimetype": "text/x-python",
   "name": "python",
   "nbconvert_exporter": "python",
   "pygments_lexer": "ipython3",
   "version": "3.4.3"
  }
 },
 "nbformat": 4,
 "nbformat_minor": 2
}
