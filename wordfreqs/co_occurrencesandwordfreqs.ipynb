{
 "cells": [
  {
   "cell_type": "code",
   "execution_count": 142,
   "metadata": {
    "collapsed": true
   },
   "outputs": [],
   "source": [
    "\n",
    "'''Simple text analysis: word frequencies and co-occurrences '''\n",
    "# https://github.com/ipython/talks/blob/master/parallel/text_analysis.py\n",
    "\n",
    "#------------------------------------------------------------------------------------------------------------\n",
    "# importing \n",
    "#------------------------------------------------------------------------------------------------------------\n",
    "\n",
    "import itertools\n",
    "import pandas as pd\n"
   ]
  },
  {
   "cell_type": "code",
   "execution_count": 275,
   "metadata": {
    "collapsed": true
   },
   "outputs": [],
   "source": [
    "sentence = \"the rakker and the bar is foo turk\"\n",
    "words = sentence.split()\n",
    "\n",
    "#------------------------------------------------------------------------------------------------------------\n",
    "# calculate distance between word pairs\n",
    "#------------------------------------------------------------------------------------------------------------\n",
    "\n",
    "def get_distance(w1, w2):\n",
    "    distance = []\n",
    "    wordpairs = []\n",
    "    cooccur = {}\n",
    "    \n",
    "    ''' returns a dict with cooccurances of wordpairs and the word distance between these pairs of words'''\n",
    "\n",
    "    if w1 in words and w2 in words:\n",
    "        distance.append(abs(words.index(w2) - words.index(w1)))\n",
    "        wp = (w1,w2)\n",
    "        wordpairs.append(wp)\n",
    "            #wordp[wp] = wordp.get(wp, 0) + distance\n",
    "    else:\n",
    "        distance.append(0)\n",
    "        wp = (w1,w2)\n",
    "        wordpairs.append(wp)\n",
    "        \n",
    "    #save as a dict\n",
    "    cooccur = dict(zip(wordpairs, distance))\n",
    "    \n",
    "    return cooccur"
   ]
  },
  {
   "cell_type": "code",
   "execution_count": 276,
   "metadata": {
    "collapsed": true
   },
   "outputs": [],
   "source": [
    "#------------------------------------------------------------------------------------------------------------\n",
    "# calculate frequency of single words\n",
    "#------------------------------------------------------------------------------------------------------------\n",
    "\n",
    "def word_freq(word):\n",
    "    ''' this returns a dict including a key (the word of interest) and a value (the frequency that word)'''\n",
    "    \n",
    "    freqs = {}\n",
    "    if word in words:\n",
    "        freqs[word] = freqs.get(word, 0) + 1\n",
    "    else:\n",
    "        freqs[word] = freqs.get(word, 0) + 0\n",
    "        \n",
    "    return freqs"
   ]
  },
  {
   "cell_type": "code",
   "execution_count": 277,
   "metadata": {},
   "outputs": [
    {
     "name": "stdout",
     "output_type": "stream",
     "text": [
      "{'foo': 1}\n"
     ]
    }
   ],
   "source": [
    "#testing ... \n",
    "\n",
    "print(word_freq('foo'))"
   ]
  },
  {
   "cell_type": "code",
   "execution_count": 278,
   "metadata": {
    "collapsed": true
   },
   "outputs": [],
   "source": [
    "#testing ... \n",
    "\n",
    "att_criminality_nd = ['dief', 'boef', 'rakker']\n",
    "tar = ['nederlander', 'marokkaan', 'turk']\n",
    "pairs_crim = list(itertools.product(att_criminality_nd,tar))\n",
    "\n",
    "for pair in pairs_crim:\n",
    "    print(get_distance(pair[0],pair[1]))"
   ]
  }
 ],
 "metadata": {
  "kernelspec": {
   "display_name": "Python 3",
   "language": "python",
   "name": "python3"
  },
  "language_info": {
   "codemirror_mode": {
    "name": "ipython",
    "version": 3
   },
   "file_extension": ".py",
   "mimetype": "text/x-python",
   "name": "python",
   "nbconvert_exporter": "python",
   "pygments_lexer": "ipython3",
   "version": "3.4.3"
  }
 },
 "nbformat": 4,
 "nbformat_minor": 2
}
